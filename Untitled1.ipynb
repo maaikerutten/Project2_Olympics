{
 "cells": [
  {
   "cell_type": "code",
   "execution_count": null,
   "metadata": {},
   "outputs": [],
   "source": [
    "import pandas as pd\n",
    "import numpy as np\n",
    "import sqlite3\n",
    "import cufflinks as cf\n",
    "import plotly.plotly as py\n",
    "import plotly.tools as tls\n",
    "import plotly.graph_objs as go\n",
    "\n",
    "conn = sqlite3.connect('bootcamp/project2_olympics/olympics.db')\n",
    "\n",
    "cursor = conn.cursor()\n",
    "\n",
    "metals_query = \"select team, medal, count(medal), season, year from olympic_games group by year order by count(medal) desc;\"\n",
    "\n",
    "cursor.execute(metals_query)\n",
    "\n",
    "result=cursor.fetchall()\n",
    "\n",
    "for row in result:\n",
    "    print(row)\n",
    "    "
   ]
  },
  {
   "cell_type": "code",
   "execution_count": null,
   "metadata": {},
   "outputs": [],
   "source": []
  }
 ],
 "metadata": {
  "kernelspec": {
   "display_name": "Python 3",
   "language": "python",
   "name": "python3"
  },
  "language_info": {
   "codemirror_mode": {
    "name": "ipython",
    "version": 3
   },
   "file_extension": ".py",
   "mimetype": "text/x-python",
   "name": "python",
   "nbconvert_exporter": "python",
   "pygments_lexer": "ipython3",
   "version": "3.6.6"
  }
 },
 "nbformat": 4,
 "nbformat_minor": 2
}
